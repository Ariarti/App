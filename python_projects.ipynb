{
  "nbformat": 4,
  "nbformat_minor": 0,
  "metadata": {
    "colab": {
      "name": "python_projects.ipynb",
      "provenance": [],
      "authorship_tag": "ABX9TyMYRx+86iO5om9Si4fd+VLT",
      "include_colab_link": true
    },
    "kernelspec": {
      "name": "python3",
      "display_name": "Python 3"
    }
  },
  "cells": [
    {
      "cell_type": "markdown",
      "metadata": {
        "id": "view-in-github",
        "colab_type": "text"
      },
      "source": [
        "<a href=\"https://colab.research.google.com/github/Ariarti/App/blob/master/python_projects.ipynb\" target=\"_parent\"><img src=\"https://colab.research.google.com/assets/colab-badge.svg\" alt=\"Open In Colab\"/></a>"
      ]
    },
    {
      "cell_type": "markdown",
      "metadata": {
        "id": "95xYySPnNkaM"
      },
      "source": [
        "[**Пространства имён и области видимости**](https://stepik.org/lesson/24460/step/10?unit=6766)\n",
        "\n",
        "Реализуйте программу, которая будет эмулировать работу с пространствами имен. Необходимо реализовать поддержку создания пространств имен и добавление в них переменных."
      ]
    },
    {
      "cell_type": "code",
      "metadata": {
        "id": "gn1SwtZFNhyj"
      },
      "source": [
        "n = int(input())\n",
        "\n",
        "def find_key(val, d):\n",
        "  for k, v in d.items():\n",
        "      if val in v:\n",
        "          return k\n",
        "            \n",
        "d = dict()\n",
        "d['global'] = []\n",
        "while n > 0:\n",
        "  n -= 1\n",
        "  cmd, namesp, arg = input().split() \n",
        "  \n",
        "  if cmd == 'create':\n",
        "    if arg in d.keys():\n",
        "      d[arg].append(namesp)\n",
        "    else:\n",
        "      d[arg] = [namesp]\n",
        "      \n",
        "    d[namesp] = []\n",
        "  \n",
        "  elif cmd == 'add':\n",
        "    d[namesp].append(arg)\n",
        "    \n",
        "  elif cmd == 'get':\n",
        "    se = True\n",
        "    while se:\n",
        "      if arg in d[namesp]:\n",
        "        se = False\n",
        "        print(namesp)\n",
        "        break\n",
        "      if namesp == 'global':\n",
        "        se = False\n",
        "        print('None')\n",
        "      namesp = find_key(namesp, d)\n"
      ],
      "execution_count": null,
      "outputs": []
    },
    {
      "cell_type": "markdown",
      "metadata": {
        "id": "taQctulgQIG8"
      },
      "source": [
        "[**Классы**](https://stepik.org/lesson/24461/step/9?unit=6767)\n",
        "\n",
        "Вам дается последовательность целых чисел и вам нужно ее обработать и вывести на экран сумму первой пятерки чисел из этой последовательности, затем сумму второй пятерки, и т. д."
      ]
    },
    {
      "cell_type": "code",
      "metadata": {
        "id": "eLGrEcKIQIZh"
      },
      "source": [
        "class Buffer:\n",
        "    def __init__(self):\n",
        "        self.list_buffer = []\n",
        "        self.it = 0 \n",
        "\n",
        "    def add(self, *a):\n",
        "        for i in a:\n",
        "            self.list_buffer.append(i)\n",
        "            self.it += i\n",
        "            if len(self.list_buffer) == 5:\n",
        "                print(self.it)\n",
        "                self.it = 0\n",
        "                self.list_buffer = self.list_buffer[5:]\n",
        "                self.__init__()\n",
        "\n",
        "    def get_current_part(self):\n",
        "        return self.list_buffer"
      ],
      "execution_count": null,
      "outputs": []
    },
    {
      "cell_type": "markdown",
      "metadata": {
        "id": "FSwLyD8wROMR"
      },
      "source": [
        "[**Наследование классов**](https://stepik.org/lesson/24462/step/7?unit=6768)\n",
        "\n",
        "Вам дано описание наследования классов в следующем формате.\n",
        "<имя класса 1> : <имя класса 2> <имя класса 3> ... <имя класса k>\n",
        "Это означает, что класс 1 отнаследован от класса 2, класса 3, и т. д.\n"
      ]
    },
    {
      "cell_type": "code",
      "metadata": {
        "id": "aYl0Ks-8ROYk"
      },
      "source": [
        "n = int(input())\n",
        "d = dict()\n",
        "for _ in range(n):\n",
        "  x, *k = input().split(\" : \")\n",
        "  if k and len(k[0]) > 1:\n",
        "    k = k[0].split(\" \")\n",
        "  d[x] = k\n",
        "  for l in k:\n",
        "    if l not in d:\n",
        "      d[l] = []\n",
        "      \n",
        "def h(x, k):\n",
        "  if not d[k]:\n",
        "    return False\n",
        "  elif x == k:\n",
        "    return True\n",
        "  elif x in d[k]:\n",
        "    return True\n",
        "  else:\n",
        "    c = []\n",
        "    for m in d[k]:\n",
        "      c.append(h(x, m))\n",
        "    if True in c:\n",
        "      return True\n",
        "    else:\n",
        "      return False\n",
        "\n",
        "\n",
        "\n",
        "n = int(input())\n",
        "for _ in range(n):\n",
        "  x, k = input().split(\" \")\n",
        "  if x == k:\n",
        "        o = \"Yes\"\n",
        "  else:\n",
        "      o = h(x, k)\n",
        "      if o:\n",
        "        o = \"Yes\"\n",
        "      else:\n",
        "        o = \"No\"\n",
        "  \n",
        "  print(o)  "
      ],
      "execution_count": null,
      "outputs": []
    },
    {
      "cell_type": "markdown",
      "metadata": {
        "id": "Ib8GurSeRkAD"
      },
      "source": [
        "[**Ошибки и исключения**](https://stepik.org/lesson/24463/step/7?unit=6771)\n",
        "\n",
        "Вам дано описание наследования классов исключений в следующем формате.\n",
        "<имя исключения 1> : <имя исключения 2> <имя исключения 3> ... <имя исключения k>\n",
        "Это означает, что исключение 1 наследуется от исключения 2, исключения 3, и т. д."
      ]
    },
    {
      "cell_type": "code",
      "metadata": {
        "id": "CTmeV-vQRjkQ"
      },
      "source": [
        "n = int(input())\n",
        "d = dict()\n",
        "for _ in range(n):\n",
        "    x, *k = input().split(\" : \")\n",
        "    if k and len(k[0]) > 1:\n",
        "        k = k[0].split(\" \")\n",
        "    d[x] = k\n",
        "    for l in k:\n",
        "        if l not in d:\n",
        "            d[l] = []\n",
        "\n",
        "\n",
        "l = []\n",
        "\n",
        "n = int(input())\n",
        "for _ in range(n):\n",
        "    x = input()\n",
        "    l.append(x)\n",
        "l = l[::-1]\n",
        "\n",
        "def add_s(s):\n",
        "    for k in d.keys():\n",
        "        if s in d[k]:\n",
        "            m.append(k)\n",
        "            add_s(k)\n",
        "\n",
        "\n",
        "m = []\n",
        "for _ in range(n):\n",
        "    s = l.pop()\n",
        "    if s in m:\n",
        "        print(s)\n",
        "    m.append(s)\n",
        "    add_s(s)\n"
      ],
      "execution_count": null,
      "outputs": []
    },
    {
      "cell_type": "markdown",
      "metadata": {
        "id": "_pscR_9pR6kq"
      },
      "source": [
        "[**Итераторы и генераторы**](https://stepik.org/lesson/24464/step/4?unit=6769)\n",
        "\n",
        "Одним из самых часто используемых классов в Python является класс filter. Он принимает в конструкторе два аргумента a и f – последовательность и функцию, и позволяет проитерироваться только по таким элементам x из последовательности a, что f(x) равно True. Будем говорить, что в этом случае функция f допускает элемент x, а элемент x является допущенным."
      ]
    },
    {
      "cell_type": "code",
      "metadata": {
        "id": "HJC_zT4vR6wB"
      },
      "source": [
        "class multifilter:\n",
        "    def judge_half(pos, neg):\n",
        "        if pos >= neg:\n",
        "          return True\n",
        "        else:\n",
        "          return False\n",
        "\n",
        "    def judge_any(pos, neg):\n",
        "        if pos > 0:\n",
        "          return True\n",
        "        else:\n",
        "          return False\n",
        "      \n",
        "    def judge_all(pos, neg):\n",
        "        if neg == 0:\n",
        "          return True\n",
        "        else:\n",
        "          return False\n",
        "\n",
        "    def __init__(self, iterable, *funcs, judge=judge_any):\n",
        "        self.iterable = iterable\n",
        "        self.funcs = funcs\n",
        "        self.judge = judge\n",
        "        self.index = 0\n",
        "        self.r = []\n",
        "\n",
        "    def __iter__(self):\n",
        "        return self\n",
        "        \n",
        "    def __next__(self):\n",
        "        if self.index < len(self.iterable):\n",
        "          self.pos = 0\n",
        "          self.neg = 0\n",
        "          for i in self.funcs:\n",
        "            self.m = self.iterable[self.index]\n",
        "            self.r.append(i(self.m))\n",
        "          for i in self.r:\n",
        "            if i is True:\n",
        "              self.pos += 1\n",
        "            else:\n",
        "              self.neg += 1\n",
        "\n",
        "          self.o = self.judge(self.pos, self.neg)\n",
        "          self.index += 1\n",
        "          self.r = []\n",
        "          if self.o:\n",
        "            return self.m\n",
        "          else: \n",
        "            return self.__next__()\n",
        "        raise StopIteration\n"
      ],
      "execution_count": null,
      "outputs": []
    },
    {
      "cell_type": "markdown",
      "metadata": {
        "id": "XfKW6JDaSOLB"
      },
      "source": [
        "[**Регулярные выражения в Python**](https://stepik.org/lesson/24470/step/15?unit=6776)\n",
        "\n",
        "Вам дана последовательность строк.\n",
        "В каждой строке замените все вхождения нескольких одинаковых букв на одну букву."
      ]
    },
    {
      "cell_type": "code",
      "metadata": {
        "id": "kZ79WmkTSOSN"
      },
      "source": [
        "import sys\n",
        "import re \n",
        "\n",
        "pattern = r\"(\\w*?)(\\w+)\\2(\\w*)\"\n",
        "for line in sys.stdin:\n",
        "    line = line.rstrip()\n",
        "    while True:\n",
        "        f = re.sub(pattern, r\"\\1\\2\\3\", line)\n",
        "        if f == line:\n",
        "            break\n",
        "        line = f\n",
        "    print(f)"
      ],
      "execution_count": null,
      "outputs": []
    },
    {
      "cell_type": "markdown",
      "metadata": {
        "id": "enjKgkH2StGX"
      },
      "source": [
        "[http-запросы, html-страницы и requests](https://stepik.org/lesson/24471/step/7?unit=6780)\n",
        "\n",
        "Вашей программе на вход подается ссылка на HTML файл.\n",
        "Вам необходимо скачать этот файл, затем найти в нем все ссылки вида <a ... href=\"...\" ... > и вывести список сайтов, на которые есть ссылка."
      ]
    },
    {
      "cell_type": "code",
      "metadata": {
        "id": "qzpS1oZGStN8"
      },
      "source": [
        "import requests\n",
        "import re\n",
        "\n",
        "pattern = r\"a .*href\\=(\\\"|\\')(https?\\:\\/\\/)?(ftp\\:\\/\\/)*((www\\.)*(\\w+\\-?\\w+\\.)+(\\w+))\"\n",
        "y = []\n",
        "x1 = input()\n",
        "res = requests.get(x1)\n",
        "if res.status_code == 200:\n",
        "    all_href = re.findall(pattern, res.text)\n",
        "    for i in all_href:\n",
        "        y.append(i[3])\n",
        "\n",
        "y = set(y)\n",
        "y = list(y)\n",
        "y.sort()\n",
        "\n",
        "for i in y:\n",
        "    print(i)"
      ],
      "execution_count": null,
      "outputs": []
    },
    {
      "cell_type": "markdown",
      "metadata": {
        "id": "qtoH1PNJS500"
      },
      "source": [
        "[CSV, JSON](https://stepik.org/lesson/24473/step/4?unit=6777)\n",
        "\n",
        "Вам дано описание наследования классов в формате JSON.\n",
        "Описание представляет из себя массив JSON-объектов, которые соответствуют классам. У каждого JSON-объекта есть поле name, которое содержит имя класса, и поле parents, которое содержит список имен прямых предков."
      ]
    },
    {
      "cell_type": "code",
      "metadata": {
        "id": "WuzHQOqyS561"
      },
      "source": [
        "import json\n",
        "\n",
        "js = json.loads(input())\n",
        "d = dict()\n",
        "h = dict()\n",
        "for i in range(len(js)):\n",
        "    d[js[i]['name']] = js[i]['parents']\n",
        "\n",
        "\n",
        "for i in d.keys():\n",
        "    h[i] = []\n",
        "    for j in d.keys():\n",
        "        if i in d[j]:\n",
        "            h[i].append(j)\n",
        "d.clear()\n",
        "m = set()\n",
        "def f(k, l):\n",
        "    if k not in d:\n",
        "        d[k] = 1\n",
        "    if h[l]:\n",
        "        for i in h[l]:\n",
        "            if i not in m:\n",
        "                m.add(i)\n",
        "                d[k] += 1\n",
        "                f(k, i)\n",
        "\n",
        "\n",
        "\n",
        "\n",
        "for k in h.keys():\n",
        "    f(k, k)\n",
        "    m.clear()\n",
        "\n",
        "an = []\n",
        "for k, v in d.items():\n",
        "    an.append([k, v])\n",
        "\n",
        "an.sort()\n",
        "for i in an:\n",
        "    print(i[0], \":\", i[1])"
      ],
      "execution_count": null,
      "outputs": []
    },
    {
      "cell_type": "markdown",
      "metadata": {
        "id": "Y-UXmELqTGVV"
      },
      "source": [
        "[**XML**](https://stepik.org/lesson/24474/step/4?unit=6779)\n",
        "\n",
        "Вам дано описание пирамиды из кубиков в формате XML.\n",
        "Кубики могут быть трех цветов: красный (red), зеленый (green) и синий (blue)."
      ]
    },
    {
      "cell_type": "code",
      "metadata": {
        "id": "MZHw21O5TGbR"
      },
      "source": [
        "from xml.etree import ElementTree\n",
        "\n",
        "root = ElementTree.fromstring(input())\n",
        "\n",
        "d = {}\n",
        "def r(k, o = 1):\n",
        "    if k.attrib['color'] not in d:\n",
        "        d[k.attrib['color']] = 0\n",
        "    d[k.attrib['color']] += o\n",
        "    o += 1\n",
        "    for i in k:\n",
        "        r(i, o)\n",
        "\n",
        "r(root)\n",
        "\n",
        "print(d['red'], d['green'], d['blue'])"
      ],
      "execution_count": null,
      "outputs": []
    },
    {
      "cell_type": "markdown",
      "metadata": {
        "id": "tdJInYYvTabi"
      },
      "source": [
        "[**Задача 1**](https://stepik.org/lesson/3380/step/1?unit=963)\n",
        "\n",
        "Напишите программу, которая принимает на стандартный вход список игр футбольных команд с результатом матча и выводит на стандартный вывод сводную таблицу результатов всех матчей."
      ]
    },
    {
      "cell_type": "code",
      "metadata": {
        "id": "aBcmPkYGTai9"
      },
      "source": [
        "n = int(input())\n",
        "d = dict()\n",
        "\n",
        "while n > 0:\n",
        "  n = n - 1\n",
        "  r = input().split(';')\n",
        "  for i in range(0,3,2):\n",
        "    if r[i] not in d:\n",
        "      d[r[i]] = [0] * 5\n",
        "    r[i+1] = int(r[i+1])\n",
        "  if r[1] > r[3]:\n",
        "    d[r[0]][1] = d[r[0]][1] + 1\n",
        "    d[r[2]][3] = d[r[2]][3] + 1 \n",
        "    \n",
        "    d[r[0]][4] = d[r[0]][4] + 3\n",
        "    \n",
        "  elif r[1] < r[3]:\n",
        "    d[r[0]][3] = d[r[0]][3] + 1\n",
        "    d[r[2]][1] = d[r[2]][1] + 1\n",
        "    \n",
        "    d[r[2]][4] = d[r[2]][4] + 3\n",
        "    \n",
        "  else:\n",
        "    d[r[0]][2] = d[r[0]][2] + 1\n",
        "    d[r[2]][2] = d[r[2]][2] + 1\n",
        "    \n",
        "    d[r[0]][4] = d[r[0]][4] + 1\n",
        "    d[r[2]][4] = d[r[2]][4] + 1\n",
        "  \n",
        "  d[r[0]][0] = d[r[0]][0] + 1\n",
        "  d[r[2]][0] = d[r[2]][0] + 1\n",
        "\n",
        "for key, value in d.items():\n",
        "  print(key+':', *value, end = \"\\n\")\n",
        "  "
      ],
      "execution_count": null,
      "outputs": []
    },
    {
      "cell_type": "markdown",
      "metadata": {
        "id": "tDS9GQeQT_2T"
      },
      "source": [
        "[**Задача 2**](https://stepik.org/lesson/3380/step/2?unit=963)\n",
        "\n"
      ]
    },
    {
      "cell_type": "code",
      "metadata": {
        "id": "ly5CoVbhT_9l"
      },
      "source": [
        "n1 = input()\n",
        "n2 = input()\n",
        "t1 = input()\n",
        "t2 = input()\n",
        "\n",
        "l = \"\"\n",
        "for i in t1:\n",
        "  if i in n1:\n",
        "    k = n1.find(i)\n",
        "    l = l + n2[k]\n",
        "  else:\n",
        "    l = l + i\n",
        "    \n",
        "m = \"\"\n",
        "for i in t2:\n",
        "  if i in n2:\n",
        "    k = n2.find(i)\n",
        "    m = m + n1[k]\n",
        "  else:\n",
        "    m = m + i\n",
        "    \n",
        "print(l)\n",
        "print(m)"
      ],
      "execution_count": null,
      "outputs": []
    },
    {
      "cell_type": "markdown",
      "metadata": {
        "id": "61tJuoM6UOpt"
      },
      "source": [
        "[**Задача 3**](https://stepik.org/lesson/3380/step/3?unit=963)\n",
        "\n",
        "Простейшая система проверки орфографии может быть основана на использовании списка известных слов.\n",
        "Если введённое слово не найдено в этом списке, оно помечается как \"ошибка\".\n",
        "\n",
        "Попробуем написать подобную систему."
      ]
    },
    {
      "cell_type": "code",
      "metadata": {
        "id": "B4rWL3vUUOvb"
      },
      "source": [
        "a = int(input())\n",
        "b = []\n",
        "for i in range(a):\n",
        "    x = input().lower()\n",
        "    if x not in b:\n",
        "        b.append(x)\n",
        " \n",
        "d = int(input())\n",
        "e = []\n",
        "for j in range(d):\n",
        "    x = input().lower().split()\n",
        "    for i in x:\n",
        "        if i not in b and i not in e:\n",
        "            e.append(i)\n",
        "            \n",
        "print('\\n'.join(e))"
      ],
      "execution_count": null,
      "outputs": []
    },
    {
      "cell_type": "markdown",
      "metadata": {
        "id": "jBLlPmM-UcdT"
      },
      "source": [
        "[**Задача 4**](https://stepik.org/lesson/3369/step/10?unit=952)\n",
        "\n",
        "Программа должна вывести матрицу того же размера, у которой каждый элемент в позиции i, j равен сумме элементов первой матрицы на позициях (i-1, j), (i+1, j), (i, j-1), (i, j+1). У крайних символов соседний элемент находится с противоположной стороны матрицы."
      ]
    },
    {
      "cell_type": "code",
      "metadata": {
        "id": "fClSlR-DUb1-"
      },
      "source": [
        "import numpy as np\n",
        "\n",
        "p = 0\n",
        "l = True\n",
        "s = 0\n",
        "while l:\n",
        "  k = [i for i in input().split()]\n",
        "  if p == 0:\n",
        "    p = 1\n",
        "    m = [0 for i in range(len(k))]\n",
        "  \n",
        "  if str(k[0]) == 'end':\n",
        "    break\n",
        "  \n",
        "  nk = []\n",
        "  for i in k:\n",
        "    nk.append(int(i))\n",
        "\n",
        "  else:\n",
        "    m = np.vstack((m, nk))\n",
        "    if s == 0:\n",
        "      m = m[:][1:]\n",
        "    for i in range(len(nk)):\n",
        "      m[s][i] = nk[i]\n",
        "    s = s + 1\n",
        "\n",
        "def ml(n, m):\n",
        "  if n >= m:\n",
        "    n = n % m\n",
        "  elif n < 0:\n",
        "    n = m + n\n",
        "  return n\n",
        "\n",
        "nm = [[0 for j in range(m.shape[1])] for i in range(m.shape[0])]\n",
        "for i in range(m.shape[0]):\n",
        "  for j in range(m.shape[1]):\n",
        "    for di in range(-1, 2, 2):\n",
        "      ai = i + di\n",
        "      aj = j\n",
        "      ai = ml(ai, m.shape[0])\n",
        "      nm[i][j] = nm[i][j] + m[ai][aj]\n",
        "    for dj in range(-1, 2, 2):\n",
        "      ai = i\n",
        "      aj = j + dj\n",
        "      aj = ml(aj, m.shape[1])\n",
        "      nm[i][j] = nm[i][j] + m[ai][aj]\n",
        "\n",
        "\n",
        "for i in range(m.shape[0]):\n",
        "  for j in range(m.shape[1]):\n",
        "    print(nm[i][j], end = ' ')\n",
        "  print()"
      ],
      "execution_count": null,
      "outputs": []
    },
    {
      "cell_type": "markdown",
      "metadata": {
        "id": "MJyQ81NcUyUC"
      },
      "source": [
        "[**Задача 5**](https://stepik.org/lesson/3369/step/11?unit=952)\n",
        "\n",
        "Выведите таблицу размером n × n, заполненную числами от 1 до n^2n по спирали."
      ]
    },
    {
      "cell_type": "code",
      "metadata": {
        "id": "lQHyYE_iUybD"
      },
      "source": [
        "import numpy as np\n",
        "\n",
        "n = int(input())\n",
        "s = n * n\n",
        "nm = [[0 for j in range(n)] for i in range(n)]\n",
        "nm = np.array(nm)\n",
        "k = 0\n",
        "\n",
        "max_x, max_y = n - 1, n - 1\n",
        "min_x, min_y = 1, 0\n",
        "x, y = 0, -1\n",
        "\n",
        "while True:\n",
        "  \n",
        "  while y < max_y:\n",
        "    k += 1\n",
        "    y += 1\n",
        "    nm[x][y] = k\n",
        "  max_y -= 1\n",
        "\n",
        "  while x < max_x:\n",
        "    k += 1\n",
        "    x += 1\n",
        "    nm[x][y] = k\n",
        "  max_x -= 1\n",
        "\n",
        "  while y > min_y:\n",
        "    k += 1\n",
        "    y -= 1\n",
        "    nm[x][y] = k\n",
        "  min_y += 1\n",
        "\n",
        "  while x > min_x:\n",
        "    k += 1\n",
        "    x -= 1\n",
        "    nm[x][y] = k\n",
        "  min_x += 1\n",
        "\n",
        "  if k >= s:\n",
        "    break\n",
        "\n",
        "\n",
        "for i in range(nm.shape[0]):\n",
        "  for j in range(nm.shape[1]):\n",
        "    print(nm[i][j], end = ' ')\n",
        "  print()\n"
      ],
      "execution_count": null,
      "outputs": []
    }
  ]
}