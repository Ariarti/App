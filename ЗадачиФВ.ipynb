{
  "nbformat": 4,
  "nbformat_minor": 0,
  "metadata": {
    "colab": {
      "name": "ЗадачиФВ.ipynb",
      "provenance": [],
      "authorship_tag": "ABX9TyMcj2D/8C3PkexjMJcwlqMW",
      "include_colab_link": true
    },
    "kernelspec": {
      "name": "python3",
      "display_name": "Python 3"
    }
  },
  "cells": [
    {
      "cell_type": "markdown",
      "metadata": {
        "id": "view-in-github",
        "colab_type": "text"
      },
      "source": [
        "<a href=\"https://colab.research.google.com/github/Ariarti/App/blob/master/%D0%97%D0%B0%D0%B4%D0%B0%D1%87%D0%B8%D0%A4%D0%92.ipynb\" target=\"_parent\"><img src=\"https://colab.research.google.com/assets/colab-badge.svg\" alt=\"Open In Colab\"/></a>"
      ]
    },
    {
      "cell_type": "markdown",
      "metadata": {
        "id": "zYkie-ZgYDDw"
      },
      "source": [
        "Имеем dictionary со следующей структурой и данными:\n",
        "\n",
        "\n",
        "```\n",
        "d = {\n",
        "    \"a\": 5,\n",
        "    \"b\": 6,\n",
        "    \"c\": {\n",
        "        \"f\": 9,\n",
        "        \"g\": {\n",
        "            \"m\": 17,\n",
        "            \"n\": 3\n",
        "        }\n",
        "    }\n",
        "}\n",
        "```\n",
        "\n",
        "\n",
        "Необходимо написать функцию flatten(d), которая на входе получает dictionary с указанной выше структурой и возвращает dictionary вида:\n",
        "```\n",
        "    {\n",
        "        'a': 5,\n",
        "        'b': 6,\n",
        "        'c.f': 9,\n",
        "        'c.g.m': 17,\n",
        "        'c.g.n': 3\n",
        "    }\n",
        "```\n",
        "Алгоритм должен работать для общего случая, т.е. превращать любой многоуровневый dictionary в одноуровневый, с ключами, как указано выше."
      ]
    },
    {
      "cell_type": "markdown",
      "metadata": {
        "id": "CpeJaEJBY4Zw"
      },
      "source": [
        "**Результат**"
      ]
    },
    {
      "cell_type": "code",
      "metadata": {
        "id": "bH5KVSeYX4YA"
      },
      "source": [
        "def flatten(d):\n",
        "  new_d = dict()\n",
        "  for k, v in d.items():\n",
        "    if type(v) is dict:\n",
        "      rd = flatten(v)\n",
        "      for rk, rv in rd.items():\n",
        "        nk = str(k) + \".\" + str(rk)\n",
        "        new_d[nk] = rv\n",
        "    else:\n",
        "      new_d[k] = v\n",
        "  return new_d"
      ],
      "execution_count": 1,
      "outputs": []
    },
    {
      "cell_type": "markdown",
      "metadata": {
        "id": "ASg2xlfwZCkC"
      },
      "source": [
        "**Тест**"
      ]
    },
    {
      "cell_type": "code",
      "metadata": {
        "id": "-bjbByYsYfAW",
        "outputId": "21d60c9a-db19-496b-8620-e84b5cbcb0bf",
        "colab": {
          "base_uri": "https://localhost:8080/"
        }
      },
      "source": [
        "d1 = {\n",
        "    \"a\": 5,\n",
        "    \"b\": 6,\n",
        "    \"c\": {\n",
        "        \"f\": 9,\n",
        "        \"g\": {\n",
        "            \"m\": 17,\n",
        "            \"n\": 3\n",
        "        }\n",
        "    }\n",
        "}\n",
        "\n",
        "d2 = dict()\n",
        "\n",
        "d3 = {\n",
        "    \"a\": {\n",
        "          \"b\": {\n",
        "                \"c\": {\n",
        "                      \"f\": 9,\n",
        "                      \"g\": {\n",
        "                            \"m\": 17,\n",
        "                            \"n\": 3\n",
        "                           }\n",
        "                     }\n",
        "               }\n",
        "        }\n",
        "    }\n",
        "\n",
        "l = [d1, d2, d3]\n",
        "\n",
        "for i in l:\n",
        "  print(flatten(i))"
      ],
      "execution_count": 2,
      "outputs": [
        {
          "output_type": "stream",
          "text": [
            "{'a': 5, 'b': 6, 'c.f': 9, 'c.g.m': 17, 'c.g.n': 3}\n",
            "{}\n",
            "{'a.b.c.f': 9, 'a.b.c.g.m': 17, 'a.b.c.g.n': 3}\n"
          ],
          "name": "stdout"
        }
      ]
    },
    {
      "cell_type": "markdown",
      "metadata": {
        "id": "1z-37uYCmE44"
      },
      "source": [
        ".\n",
        "\n",
        ".\n",
        "\n",
        ".\n",
        "\n",
        ".\n",
        "\n",
        ".\n",
        "\n",
        "\n",
        "\n",
        "\n",
        "\n",
        "\n"
      ]
    },
    {
      "cell_type": "markdown",
      "metadata": {
        "id": "Vd9QyHKgYfbb"
      },
      "source": [
        "Необходимо написать алгоритм (приложение, работающее из командной строки), который на входе получает валидный XML документ, и возвращает в виде результата максимальную глубину вложенности тегов в данном документе. Глубина измеряется в целых числах: 0, 1, 2 и т.д., при этом глубина корневого тэга принимается равной 0.\n",
        "При написании алгоритма могут использоваться любые библиотеки для парсинга XML."
      ]
    },
    {
      "cell_type": "markdown",
      "metadata": {
        "id": "R3_zZFSGY7BK"
      },
      "source": [
        "**Результат**"
      ]
    },
    {
      "cell_type": "code",
      "metadata": {
        "id": "ofr4bGIMYfoC",
        "outputId": "62b9a369-b35a-48d7-df4b-93786dd5ccaf",
        "colab": {
          "base_uri": "https://localhost:8080/"
        }
      },
      "source": [
        "import xml.etree.ElementTree as ET\n",
        "from xml.etree.ElementTree import ParseError\n",
        "\n",
        "def parse_xml(root):\n",
        "  x = 0\n",
        "  y = 0\n",
        "  z = 0\n",
        "  if len(root) > 0:\n",
        "    x += 1\n",
        "    for child in root:\n",
        "      y = x + parse_xml(child)\n",
        "      if y > z:\n",
        "        z = y\n",
        "  return z\n",
        "\n",
        "def _parse():\n",
        "  while True:\n",
        "    p = input(\"Введите путь к xml файлу(q - завершение программы): \")\n",
        "    if p == \"q\":\n",
        "      print(\"Программа завершена\")\n",
        "      break\n",
        "\n",
        "    try:\n",
        "      tree = ET.parse(p)\n",
        "      root = tree.getroot()\n",
        "      print(parse_xml(root))\n",
        "    except FileNotFoundError:\n",
        "      print(\"Неверный путь\")\n",
        "    except ParseError:\n",
        "      print(\"Ошибка синтаксического анализа XML\")\n",
        "\n",
        "if __name__ == \"__main__\":\n",
        "    _parse()"
      ],
      "execution_count": 39,
      "outputs": [
        {
          "output_type": "stream",
          "text": [
            "Введите путь к xml файлу(q - завершение программы): test.xml\n",
            "1\n",
            "Введите путь к xml файлу(q - завершение программы): test1.xml\n",
            "2\n",
            "Введите путь к xml файлу(q - завершение программы): test2.xml\n",
            "2\n",
            "Введите путь к xml файлу(q - завершение программы): test3.xml\n",
            "3\n",
            "Введите путь к xml файлу(q - завершение программы): test4.xml\n",
            "4\n",
            "Введите путь к xml файлу(q - завершение программы): q\n",
            "Программа завершена\n"
          ],
          "name": "stdout"
        }
      ]
    },
    {
      "cell_type": "markdown",
      "metadata": {
        "id": "OlkDAjImly0p"
      },
      "source": [
        "\n",
        "\n",
        "```\n",
        "<feed xml:lang='en'>\n",
        "    <title>NPBFX</title>\n",
        "    <subtitle lang='en'>Programming challenges</subtitle>\n",
        "    <link rel='alternate' type='text/html' href='http://npbfx.com/' />\n",
        "    <updated>2020-10-28T12:00:00</updated>\n",
        "</feed>\n",
        "```\n",
        "**Ответ: 1**\n",
        "\n",
        "-------------------------------------------------------------------\n",
        "\n",
        "```\n",
        "<?xml version=\"1.0\" ?>\n",
        "<zAppointments reminder=\"15\">\n",
        "    <appointment>\n",
        "        <begin>1181251680</begin>\n",
        "        <uid>040000008200E000</uid>\n",
        "        <alarmTime>1181572063</alarmTime>\n",
        "        <state></state>\n",
        "        <location></location>\n",
        "        <duration>1800</duration>\n",
        "        <subject>Bring pizza home</subject>\n",
        "    </appointment>\n",
        "</zAppointments>\n",
        "```\n",
        "**Ответ: 2**\n",
        "\n",
        "-------------------------------------------------------------------\n",
        "\n",
        "```\n",
        "<?xml version=\"1.0\" ?>\n",
        "<zAppointments reminder=\"15\">\n",
        "    <appointment>\n",
        "        <begin>1181251680</begin>\n",
        "        <uid>040000008200E000</uid>\n",
        "        <alarmTime>1181572063</alarmTime>\n",
        "        <state></state>\n",
        "        <location></location>\n",
        "        <duration>1800</duration>\n",
        "        <subject>Bring pizza home</subject>\n",
        "    </appointment>\n",
        "    <appointment>\n",
        "        <begin>1181253977</begin>\n",
        "        <uid>sdlkjlkadhdakhdfd</uid>\n",
        "        <alarmTime>1181588888</alarmTime>\n",
        "        <state>TX</state>\n",
        "        <location>Dallas</location>\n",
        "        <duration>1800</duration>\n",
        "        <subject>Bring pizza home</subject>\n",
        "    </appointment>\n",
        "</zAppointments>\n",
        "```\n",
        "**Ответ: 2**\n",
        "\n",
        "-------------------------------------------------------------------\n",
        "\n",
        "```\n",
        "<?xml version='1.0' encoding='utf-8'?>\n",
        "<feed xmlns='http://www.w3.org/2005/Atom' xml:lang='en'>\n",
        "  <title>dive into mark</title>\n",
        "  <subtitle>currently between addictions</subtitle>\n",
        "  <id>tag:diveintomark.org,2001-07-29:/</id>\n",
        "  <updated>2009-03-27T21:56:07Z</updated>\n",
        "  <link rel='alternate' type='text/html' href='http://diveintomark.org/'/>\n",
        "  <link rel='self' type='application/atom+xml' href='http://diveintomark.org/feed/'/>\n",
        "  <entry>\n",
        "    <author>\n",
        "      <name>Mark</name>\n",
        "      <uri>http://diveintomark.org/</uri>\n",
        "    </author>\n",
        "    <title>Dive into history, 2009 edition</title>\n",
        "    <link rel='alternate' type='text/html'\n",
        "      href='http://diveintomark.org/archives/2009/03/27/dive-into-history-2009-edition'/>\n",
        "    <id>tag:diveintomark.org,2009-03-27:/archives/20090327172042</id>\n",
        "    <updated>2009-03-27T21:56:07Z</updated>\n",
        "    <published>2009-03-27T17:20:42Z</published>\n",
        "    <category scheme='http://diveintomark.org' term='diveintopython'/>\n",
        "    <category scheme='http://diveintomark.org' term='docbook'/>\n",
        "    <category scheme='http://diveintomark.org' term='html'/>\n",
        "  <summary type='html'>Putting an entire chapter on one page sounds\n",
        "    bloated, but consider this &amp;mdash; my longest chapter so far\n",
        "    would be 75 printed pages, and it loads in under 5 seconds&amp;hellip;\n",
        "    On dialup.</summary>\n",
        "  </entry>\n",
        "  <entry>\n",
        "    <author>\n",
        "      <name>Mark</name>\n",
        "      <uri>http://diveintomark.org/</uri>\n",
        "    </author>\n",
        "    <title>Accessibility is a harsh mistress</title>\n",
        "    <link rel='alternate' type='text/html'\n",
        "      href='http://diveintomark.org/archives/2009/03/21/accessibility-is-a-harsh-mistress'/>\n",
        "    <id>tag:diveintomark.org,2009-03-21:/archives/20090321200928</id>\n",
        "    <updated>2009-03-22T01:05:37Z</updated>\n",
        "    <published>2009-03-21T20:09:28Z</published>\n",
        "    <category scheme='http://diveintomark.org' term='accessibility'/>\n",
        "    <summary type='html'>The accessibility orthodoxy does not permit people to\n",
        "      question the value of features that are rarely useful and rarely used.</summary>\n",
        "  </entry>\n",
        "  <entry>\n",
        "    <author>\n",
        "      <name>Mark</name>\n",
        "    </author>\n",
        "    <title>A gentle introduction to video encoding, part 1: container formats</title>\n",
        "    <link rel='alternate' type='text/html'\n",
        "      href='http://diveintomark.org/archives/2008/12/18/give-part-1-container-formats'/>\n",
        "    <id>tag:diveintomark.org,2008-12-18:/archives/20081218155422</id>\n",
        "    <updated>2009-01-11T19:39:22Z</updated>\n",
        "    <published>2008-12-18T15:54:22Z</published>\n",
        "    <category scheme='http://diveintomark.org' term='asf'/>\n",
        "    <category scheme='http://diveintomark.org' term='avi'/>\n",
        "    <category scheme='http://diveintomark.org' term='encoding'/>\n",
        "    <category scheme='http://diveintomark.org' term='flv'/>\n",
        "    <category scheme='http://diveintomark.org' term='GIVE'/>\n",
        "    <category scheme='http://diveintomark.org' term='mp4'/>\n",
        "    <category scheme='http://diveintomark.org' term='ogg'/>\n",
        "    <category scheme='http://diveintomark.org' term='video'/>\n",
        "    <summary type='html'>These notes will eventually become part of a\n",
        "      tech talk on video encoding.</summary>\n",
        "  </entry>\n",
        "</feed>\n",
        "```\n",
        "**Ответ: 3**\n",
        "\n",
        "-------------------------------------------------------------------\n",
        "\n",
        "```\n",
        "<note>\n",
        "<to>Вася</to>\n",
        "<from>Света</from>\n",
        "<heading>Напоминание</heading>\n",
        "<body>Позвони мне завтра!</body>\n",
        "<t>\n",
        "<s>\n",
        "<m>\n",
        "<k>\n",
        "</k>\n",
        "</m>\n",
        "</s>\n",
        "</t>\n",
        "</note>\n",
        "```\n",
        "**Ответ: 4**\n",
        "\n",
        "-------------------------------------------------------------------\n",
        "\n",
        "\n",
        "\n",
        "\n",
        "\n",
        "\n"
      ]
    }
  ]
}